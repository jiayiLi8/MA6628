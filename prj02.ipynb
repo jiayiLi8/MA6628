{
 "cells": [
  {
   "cell_type": "code",
   "execution_count": 1,
   "metadata": {
    "collapsed": false
   },
   "outputs": [
    {
     "name": "stdout",
     "output_type": "stream",
     "text": [
      "import numpy as np\r\n",
      "import scipy.stats as ss\r\n",
      "import time\r\n",
      "import math\r\n",
      "\r\n",
      "def d1f(St, K, t, T, r_hat, sigma_hat):\r\n",
      "    ''' Black-Scholes-Merton d1 function.\r\n",
      "        Parameters see e.g. BSM_call_value function. '''\r\n",
      "    d1 = (math.log(St / K) + (r_hat + 0.5 * sigma_hat ** 2)\r\n",
      "          * (T - t)) / (sigma_hat * math.sqrt(T - t))\r\n",
      "    return d1\r\n",
      "\r\n",
      "def BSM_CALL_VALUE(S0,K,t,T,n,r,sigma):\r\n",
      "    sigma_hat = sigma / n * math.sqrt((n + 1) * (2*n + 1)/6)\r\n",
      "    r_hat = 1/2 * sigma_hat +(n + 1)/(2 * n)*(r - 1/2 * sigma ** 2)\r\n",
      "    St = S0 * math.exp((r_hat - 1/2 * sigma_hat ** 2)* T + sigma_hat * math.sqrt(T))\r\n",
      "    d1 = d1f(St, K, t, T, r_hat, sigma_hat)\r\n",
      "    d2 = d1 - sigma_hat * math.sqrt(T - t)\r\n",
      "    call_value = math.exp(r_hat * T - r *T)*(St * ss.norm.cdf(d1) - math.exp(-r_hat * (T - t)) * K * ss.norm.cdf(d2))\r\n",
      "    return call_value\r\n",
      "\r\n",
      "\r\n",
      "\r\n",
      "\r\n",
      "\r\n",
      "\r\n"
     ]
    }
   ],
   "source": [
    "%cat prj02.py"
   ]
  },
  {
   "cell_type": "code",
   "execution_count": 2,
   "metadata": {
    "collapsed": false
   },
   "outputs": [
   ],
   "source": [
    "%run prj02.py"
   ]
  },
  {
   "cell_type": "code",
   "execution_count": 3,
   "metadata": {
    "collapsed": false
   },
   "outputs": [
   ],
   "source": [
    "#An example is given here\n",
    "S0 = 100.0 #initial stock price\n",
    "K = 110.0 #strike\n",
    "r=0.0475 #interest rate\n",
    "sigma = 0.20 #vol\n",
    "T = 1. #maturity\n",
    "Otype='C' #Call type\n",
    "n = 4 #number of periods"
   ]
  },
  {
   "cell_type": "code",
   "execution_count": 4,
   "metadata": {
    "collapsed": false
   },
   "outputs": [
    {
     "data": {
      "text/plain": [
       "24.1600414504683"
      ]
     },
     "execution_count": 4,
     "metadata": {
     },
     "output_type": "execute_result"
    }
   ],
   "source": [
    "BSM_CALL_VALUE(S0,K,0,T,n,r,sigma)"
   ]
  },
  {
   "cell_type": "code",
   "execution_count": 0,
   "metadata": {
    "collapsed": false
   },
   "outputs": [
   ],
   "source": [
   ]
  }
 ],
 "metadata": {
  "kernelspec": {
   "display_name": "Python 3 (Anaconda 5)",
   "language": "python",
   "name": "anaconda5"
  }
 },
 "nbformat": 4,
 "nbformat_minor": 0
}