{
 "cells": [
  {
   "cell_type": "code",
   "execution_count": 1,
   "metadata": {
    "collapsed": false
   },
   "outputs": [
    {
     "name": "stdout",
     "output_type": "stream",
     "text": [
      "prj01.py\r\n"
     ]
    }
   ],
   "source": [
    "%ls prj01.py"
   ]
  },
  {
   "cell_type": "code",
   "execution_count": 2,
   "metadata": {
    "collapsed": false
   },
   "outputs": [
    {
     "name": "stdout",
     "output_type": "stream",
     "text": [
      "from math import sqrt\r\n",
      "\r\n",
      "def prime(n):\r\n",
      "    if n<=1:\r\n",
      "        return 0\r\n",
      "    for i in range(2,int(sqrt(n)+1)):\r\n",
      "        if n%i == 0:\r\n",
      "            return 0\r\n",
      "    return 1\r\n",
      "\r\n",
      "if __name__ == \"__main__\":\r\n",
      "    n = 1000000\r\n",
      "    num = 0\r\n",
      "    for i in range(1000,n+1):\r\n",
      "        if prime(i)*prime(i+2):\r\n",
      "            num = num+1\r\n",
      "    print ('the total number of twin prime is ',num)"
     ]
    }
   ],
   "source": [
    "%cat prj01.py"
   ]
  },
  {
   "cell_type": "code",
   "execution_count": 3,
   "metadata": {
    "collapsed": false
   },
   "outputs": [
    {
     "name": "stdout",
     "output_type": "stream",
     "text": [
      "the total number of twin prime is  8134\n"
     ]
    }
   ],
   "source": [
    "%run prj01.py"
   ]
  },
  {
   "cell_type": "code",
   "execution_count": 4,
   "metadata": {
    "collapsed": false
   },
   "outputs": [
    {
     "name": "stdout",
     "output_type": "stream",
     "text": [
      "prj01.2.py\r\n"
     ]
    }
   ],
   "source": [
    "%ls prj01.2.py"
   ]
  },
  {
   "cell_type": "code",
   "execution_count": 5,
   "metadata": {
    "collapsed": false
   },
   "outputs": [
    {
     "name": "stdout",
     "output_type": "stream",
     "text": [
      "from math import sqrt\r\n",
      "import sys\r\n",
      "def is_prime(n):\r\n",
      "    if n<=1:\r\n",
      "        return 0\r\n",
      "    for i in range(2,int(sqrt(n)+1)):\r\n",
      "        if n%i == 0:\r\n",
      "            return 0\r\n",
      "    return 1\r\n",
      "\r\n",
      "if __name__ == \"__main__\":\r\n",
      "    n = intmaxsize\r\n",
      "    while n>0:\r\n",
      "        if is_prime(n)*is_prime(n-2):\r\n",
      "            print(n,n-2)\r\n",
      "            break\r\n",
      "        n=n-1"
     ]
    }
   ],
   "source": [
    "%cat prj01.2.py"
   ]
  },
  {
   "cell_type": "code",
   "execution_count": 0,
   "metadata": {
    "collapsed": false
   },
   "outputs": [
   ],
   "source": [
   ]
  }
 ],
 "metadata": {
  "kernelspec": {
   "display_name": "Python 3 (Anaconda 5)",
   "language": "python",
   "name": "anaconda5"
  },
  "language_info": {
   "codemirror_mode": {
    "name": "ipython",
    "version": 3
   },
   "file_extension": ".py",
   "mimetype": "text/x-python",
   "name": "python",
   "nbconvert_exporter": "python",
   "pygments_lexer": "ipython3",
   "version": "3.6.5"
  }
 },
 "nbformat": 4,
 "nbformat_minor": 0
}
